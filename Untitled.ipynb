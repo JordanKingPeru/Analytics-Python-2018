{
 "cells": [
  {
   "cell_type": "markdown",
   "metadata": {},
   "source": [
    "# 3. Modelamiento\n",
    "    En el presente capítulo, se presenta el fundamento de las técnicas elegídas para el modelamiento, explicando los pasos que se siguió, de la misma forma se muestra y compara la evaluación de resultados. El input para el análisis es la base de datos de tratada."
   ]
  },
  {
   "cell_type": "code",
   "execution_count": 1,
   "metadata": {},
   "outputs": [],
   "source": [
    "## 3.1 Análisis Cluster"
   ]
  },
  {
   "cell_type": "code",
   "execution_count": 4,
   "metadata": {},
   "outputs": [],
   "source": [
    "import pandas as pd\n",
    "import os\n",
    "import matplotlib.pyplot as plt\n",
    "from scipy.cluster.hierarchy import dendrogram,linkage\n",
    "import numpy as np"
   ]
  },
  {
   "cell_type": "code",
   "execution_count": 6,
   "metadata": {},
   "outputs": [],
   "source": [
    "carpeta = 'D:/Cursos/Big Data & Analytics/Analytics-Python-2018/'\n",
    "archivo = '01BD/ds1.csv'\n",
    "fullpath = os.path.join(carpeta,archivo)\n",
    "\n",
    "#linkage: matriz de enlace Ward\n"
   ]
  },
  {
   "cell_type": "code",
   "execution_count": 7,
   "metadata": {},
   "outputs": [],
   "source": [
    "data = pd.read_csv(fullpath)"
   ]
  },
  {
   "cell_type": "code",
   "execution_count": 17,
   "metadata": {},
   "outputs": [
    {
     "ename": "SyntaxError",
     "evalue": "invalid syntax (<ipython-input-17-bd67b7806438>, line 2)",
     "output_type": "error",
     "traceback": [
      "\u001b[1;36m  File \u001b[1;32m\"<ipython-input-17-bd67b7806438>\"\u001b[1;36m, line \u001b[1;32m2\u001b[0m\n\u001b[1;33m    v_cualitativa = ['CustomerId', 'Surname', , 'Geography','Gender', 'NumOfProducts', 'HasCrCard','IsActiveMember', 'Exited']\u001b[0m\n\u001b[1;37m                                              ^\u001b[0m\n\u001b[1;31mSyntaxError\u001b[0m\u001b[1;31m:\u001b[0m invalid syntax\n"
     ]
    }
   ],
   "source": [
    "v_cuantitativa = ['CreditScore', 'Age', 'Tenure', 'Balance', 'EstimatedSalary']\n",
    "v_cualitativa = ['CustomerId', 'Surname', , 'Geography','Gender', 'NumOfProducts', 'HasCrCard','IsActiveMember', 'Exited']\n",
    "data.filter(v_cuantitativa)\n"
   ]
  },
  {
   "cell_type": "code",
   "execution_count": null,
   "metadata": {},
   "outputs": [],
   "source": []
  }
 ],
 "metadata": {
  "kernelspec": {
   "display_name": "Python 3",
   "language": "python",
   "name": "python3"
  },
  "language_info": {
   "codemirror_mode": {
    "name": "ipython",
    "version": 3
   },
   "file_extension": ".py",
   "mimetype": "text/x-python",
   "name": "python",
   "nbconvert_exporter": "python",
   "pygments_lexer": "ipython3",
   "version": "3.6.5"
  }
 },
 "nbformat": 4,
 "nbformat_minor": 2
}
